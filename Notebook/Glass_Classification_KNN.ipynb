{
 "cells": [
  {
   "cell_type": "markdown",
   "metadata": {
    "_cell_guid": "2f198c1d-2e8d-f956-ce1c-c5817c781dda",
    "_uuid": "40c44dcd18bb5fea6ac8e0dec05383d6f218b380"
   },
   "source": [
    "## Glass Classification--KNN"
   ]
  },
  {
   "cell_type": "markdown",
   "metadata": {
    "_cell_guid": "0df77ac0-f5aa-4f57-8ded-2e1cdee1119f",
    "_execution_state": "idle",
    "_uuid": "25529f3728f52b48f504863ca3408d12f8043c88"
   },
   "source": [
    "I will write this note as per CRISP-DM (cross-industry standard process for data mining) process. I will try to keep writing in English for code and algorithm related statements, the other sections, i may write it in Chinese for better elaboration, sorry for inconvenience if you are not Chinese-speaking friends.<br>\n",
    "#### CRISP-DM Process:<br>\n",
    "\n",
    " - Business understanding\n",
    " - Data understanding\n",
    " - Data preparation\n",
    " - Modeling\n",
    " - Evaluation\n",
    " - Deployment"
   ]
  },
  {
   "cell_type": "markdown",
   "metadata": {
    "_cell_guid": "1e0c0e56-801a-41f4-bc64-5773b4c430dc",
    "_execution_state": "idle",
    "_uuid": "64d7f66aa782dbb725001292d45475c3630adaad"
   },
   "source": [
    "### Data set source\n",
    "https://archive.ics.uci.edu/ml/datasets/Glass+Identification <br>\n",
    "no missing values as per source descreption"
   ]
  },
  {
   "cell_type": "markdown",
   "metadata": {
    "_cell_guid": "43d0c96f-af2a-47e0-b787-fbfa18bd30d9",
    "_execution_state": "idle",
    "_uuid": "e4751085cedfe439d397316ea6c5985081a732ff"
   },
   "source": [
    "### Business understanding"
   ]
  },
  {
   "cell_type": "markdown",
   "metadata": {
    "_cell_guid": "c0e44c5a-3345-4ef0-bc4a-82dcf797b267",
    "_execution_state": "idle",
    "_uuid": "0cf186678b6923221b797012b5ca1e43407a615b"
   },
   "source": [
    "Data set  has 9 properties, the first one is optical property, the rest 8 is chemical oxide contents of glass, so property 1 and property 2-9 has different dimension.<br>\n",
    "unit measurement for contents: weight percent in corresponding oxide, as are attributes\n",
    "glass class has 7 types, but type 4 is not in this data set.<br>\n",
    "\n",
    "----------\n",
    "The study of classification of types of glass was motivated by criminological investigation. At the scene of the crime, the glass left can be used as evidence...if it is correctly identified!\n",
    "\n",
    "---\n",
    "\n",
    "Names in Chinese:<br>\n",
    "1. building_windows_float_processed <br>\n",
    "2. building_windows_non_float_processed <br>\n",
    "3. vehicle_windows_float_processed <br>\n",
    "4. vehicle_windows_non_float_processed (none in this database) <br>\n",
    "5. containers <br>\n",
    "6. tableware <br>\n",
    "7. headlamps<br>\n",
    "\n",
    "\n",
    "----------\n",
    "Main ingredient of glass: SiO2, other contents are also oxides, such as: Na2O, CaO,K2O"
   ]
  },
  {
   "cell_type": "markdown",
   "metadata": {
    "_cell_guid": "33941ce9-cd60-48a8-b486-c3d80055c492",
    "_execution_state": "idle",
    "_uuid": "506d316953f3e1d3fa3d18dd4d12c4728bc02384"
   },
   "source": [
    "### Data understanding"
   ]
  },
  {
   "cell_type": "code",
   "execution_count": null,
   "metadata": {
    "_cell_guid": "beba55c8-0278-493e-8159-64db1aba3a86",
    "_execution_state": "idle",
    "_uuid": "93aa1aca0526313a35f6b4c3b953d8008db6d0f3"
   },
   "outputs": [],
   "source": [
    "import pandas as pd\n",
    "import numpy as np\n",
    "import matplotlib\n",
    "matplotlib.style.use('seaborn')\n",
    "\n",
    "from subprocess import check_output\n",
    "print(check_output([\"ls\", \"../input\"]).decode(\"utf8\"))\n",
    "path='../input/glass.csv'\n",
    "\n",
    "df=pd.read_csv(path)\n",
    "df.head()"
   ]
  },
  {
   "cell_type": "code",
   "execution_count": null,
   "metadata": {
    "_cell_guid": "37fadcaf-3989-4650-8bb4-71cb8286535b",
    "_execution_state": "idle",
    "_uuid": "599ee69f9664d9747aad6713364a3cba502c9ca2"
   },
   "outputs": [],
   "source": [
    "df.shape"
   ]
  },
  {
   "cell_type": "code",
   "execution_count": null,
   "metadata": {
    "_cell_guid": "628f3e6d-092a-4dac-8e8e-14985432b279",
    "_execution_state": "idle",
    "_uuid": "b50353d4b73e9e0d17c4db1696c43785ff4ab3ed"
   },
   "outputs": [],
   "source": [
    "df.describe()"
   ]
  },
  {
   "cell_type": "code",
   "execution_count": null,
   "metadata": {
    "_cell_guid": "b99ffe81-4553-40cc-8788-f7319cefb187",
    "_execution_state": "idle",
    "_uuid": "3a7216297739896fed666b61ab5453d70a4e0405"
   },
   "outputs": [],
   "source": [
    "type=df['Type'].groupby(df['Type']).count()\n",
    "type"
   ]
  },
  {
   "cell_type": "markdown",
   "metadata": {
    "_cell_guid": "81a54075-eb84-42bb-83b0-c6dca9b4343f",
    "_execution_state": "idle",
    "_uuid": "1e28fcce33a9fe29f0ffa507e416e4a63393ffca"
   },
   "source": [
    "### Here, we can see class data is skewed, class 1 and 2 is in the majority"
   ]
  },
  {
   "cell_type": "code",
   "execution_count": null,
   "metadata": {
    "_cell_guid": "36b01ba3-4b78-4fe8-bdaf-f8f300f79912",
    "_execution_state": "idle",
    "_uuid": "f01bf37508ffb75dfe8f79a2b6001b8d90aa5682"
   },
   "outputs": [],
   "source": [
    "type.plot('bar')"
   ]
  },
  {
   "cell_type": "markdown",
   "metadata": {
    "_cell_guid": "18558b09-cce1-4b59-b050-063e0069e3d6",
    "_execution_state": "idle",
    "_uuid": "dbd6c31832e8abc9e50376d3c47bc9cc6bafb823"
   },
   "source": [
    "### Data preparation--Do not transform intentionally<br>\n",
    "For comparison, we don't make any change the initial data set<br>\n",
    "Note: no missing values, so data cleaning can be ignored."
   ]
  },
  {
   "cell_type": "markdown",
   "metadata": {
    "_cell_guid": "a5f44456-ff3e-49a7-9b2b-6ce7fd9be316",
    "_execution_state": "idle",
    "_uuid": "78aa342698f17d260b720547363d734fe825a41e"
   },
   "source": [
    "we can see precision is approx. 72%. Best K-value is 1 that means classify by nearest 1 sample neighbor.<br>\n",
    "But, we got a warning \"The least populated class in y has only 8 members, which is too few. The minimum number of groups for any class cannot be less than n_splits=10.\" This is caused by low sample volume and skewness of data set."
   ]
  },
  {
   "cell_type": "code",
   "execution_count": null,
   "metadata": {
    "_cell_guid": "800faae6-8aec-bf5e-e06f-ebe288e2c3aa",
    "_execution_state": "idle",
    "_uuid": "3f5614e68603af3bea33f4551dea7980be687d69"
   },
   "outputs": [],
   "source": [
    "from sklearn.model_selection import train_test_split\n",
    "from sklearn.model_selection import cross_val_score\n",
    "from sklearn.neighbors import KNeighborsClassifier\n",
    "\n",
    "# get column titles except the last column\n",
    "features=df.columns[:-1].tolist()\n",
    "\n",
    "# get data set features\n",
    "X=df[features].values\n",
    "# get labels\n",
    "y=df['Type'].values\n",
    "\n",
    "# split data to train data set and test data set\n",
    "X_train,X_test,y_train,y_test=train_test_split(X,y,test_size=0.2,random_state=1)\n",
    "# store scores of KNN model by K=1 to 31\n",
    "scores=[]\n",
    "\n",
    "# loop k from 1 to 31, and get cross validation score of each K value\n",
    "for k in range(1,32):\n",
    "    knn=KNeighborsClassifier(k)\n",
    "    score_val=cross_val_score(knn,X_train,y_train,scoring='accuracy',cv=10)\n",
    "    score_mean=score_val.mean()\n",
    "    scores.append(score_mean)\n",
    "\n",
    "# get index of maxium score along axis, default axis=0 for 1 dimensional array\n",
    "best_k=np.argmax(scores)+1\n",
    "print(best_k)\n",
    "# generate KNN model\n",
    "knn=KNeighborsClassifier(best_k)\n",
    "# fit with train data set\n",
    "knn.fit(X_train,y_train)\n",
    "# get Modes presicion rate using test set\n",
    "print(\"prediction precision rate:\",knn.score(X_test,y_test))"
   ]
  },
  {
   "cell_type": "markdown",
   "metadata": {
    "_cell_guid": "d7142054-d7c6-4a02-9545-b40ff02e08da",
    "_execution_state": "idle",
    "_uuid": "f376389c621db6d92e4ef319cde0724d0569e069"
   },
   "source": [
    "### Data preparation--Do not transform intentionally<br>\n",
    "### Now we try to solve below problems:<br>\n",
    "- low data set volume\n",
    "- skewness"
   ]
  },
  {
   "cell_type": "markdown",
   "metadata": {
    "_cell_guid": "f6d34ada-aca5-4cf2-953f-3d8bba4438af",
    "_execution_state": "idle",
    "_uuid": "c2d76e1dd2d53aff0e65d0f225eb5a6372a0790b"
   },
   "source": [
    "### Get balanced sample by oversampling"
   ]
  },
  {
   "cell_type": "code",
   "execution_count": null,
   "metadata": {
    "_cell_guid": "3084b4dd-e680-48eb-affb-b15ba79488bf",
    "_execution_state": "idle",
    "_uuid": "34655bd8cba1eea6d4b5c9ff735d48139e4917ff"
   },
   "outputs": [],
   "source": [
    "df3=df[df['Type']==3]"
   ]
  },
  {
   "cell_type": "code",
   "execution_count": null,
   "metadata": {
    "_cell_guid": "225efa3c-bd26-44c2-bf46-cfbc20ca5906",
    "_execution_state": "idle",
    "_uuid": "37029eeea89b11e6cc7f5d92f9df8ad717494ad4"
   },
   "outputs": [],
   "source": [
    "df3=pd.concat([df3]*4)"
   ]
  },
  {
   "cell_type": "code",
   "execution_count": null,
   "metadata": {
    "_cell_guid": "5e643f1f-0d74-4d9e-a706-4238411a7e67",
    "_execution_state": "idle",
    "_uuid": "a62dadfecf94f9e338491eb69e6f59c0521b2999"
   },
   "outputs": [],
   "source": [
    "df5=df[df['Type']==5]"
   ]
  },
  {
   "cell_type": "code",
   "execution_count": null,
   "metadata": {
    "_cell_guid": "c742e567-2878-4988-9fcb-b0602146ee5e",
    "_execution_state": "idle",
    "_uuid": "e7644a4791032f02a37c1279d075096224c6a2b9"
   },
   "outputs": [],
   "source": [
    "df5=pd.concat([df5]*5)"
   ]
  },
  {
   "cell_type": "code",
   "execution_count": null,
   "metadata": {
    "_cell_guid": "86fe0630-f368-47ed-bde2-9ca991c73824",
    "_execution_state": "idle",
    "_uuid": "9d7d75f9a4c92dc2608cfdd3e01ef876450bdd09"
   },
   "outputs": [],
   "source": [
    "df6=df[df['Type']==6]"
   ]
  },
  {
   "cell_type": "code",
   "execution_count": null,
   "metadata": {
    "_cell_guid": "8708754c-7dca-4221-a132-8e605e6e298e",
    "_execution_state": "idle",
    "_uuid": "7ca6aed866708eb5deb966ada4e6a4f06a012550"
   },
   "outputs": [],
   "source": [
    "df6=pd.concat([df6]*7)"
   ]
  },
  {
   "cell_type": "code",
   "execution_count": null,
   "metadata": {
    "_cell_guid": "c24989b1-be05-41e6-a3c7-fd72d9f6adef",
    "_execution_state": "idle",
    "_uuid": "19a20c83f75be308392cb5f3a702ac96d758487c"
   },
   "outputs": [],
   "source": [
    "df7=df[df['Type']==7]"
   ]
  },
  {
   "cell_type": "code",
   "execution_count": null,
   "metadata": {
    "_cell_guid": "a172d35c-0312-4961-89de-7bae961279bf",
    "_execution_state": "idle",
    "_uuid": "750d4fff552099ca0f236279f9288cf7c582823e"
   },
   "outputs": [],
   "source": [
    "df7=pd.concat([df7]*2)"
   ]
  },
  {
   "cell_type": "code",
   "execution_count": null,
   "metadata": {
    "_cell_guid": "205e7f17-91a6-4b15-879e-0579f2230ae4",
    "_execution_state": "idle",
    "_uuid": "7c0314d6965a8b41dabce8ef546ea7b271c6ac3d"
   },
   "outputs": [],
   "source": [
    "df1=df[df['Type']==1]"
   ]
  },
  {
   "cell_type": "code",
   "execution_count": null,
   "metadata": {
    "_cell_guid": "b97b83bb-2629-42f3-90eb-12ee553720aa",
    "_execution_state": "idle",
    "_uuid": "18e9e9efc70b37dd650b6e38ae566bb484cfb2e0"
   },
   "outputs": [],
   "source": [
    "df2=df[df['Type']==2]"
   ]
  },
  {
   "cell_type": "code",
   "execution_count": null,
   "metadata": {
    "_cell_guid": "4f4ff7c3-3d68-4a56-aa2f-8bda1337eba3",
    "_execution_state": "idle",
    "_uuid": "cbb9cbb1d32bc076ac119ef256eaad9c9282f270"
   },
   "outputs": [],
   "source": [
    "df_balanced=pd.concat([df1,df2,df3,df5,df6,df7])"
   ]
  },
  {
   "cell_type": "code",
   "execution_count": null,
   "metadata": {
    "_cell_guid": "31be5ab6-3954-4b21-a2d9-21627da8d5a6",
    "_execution_state": "idle",
    "_uuid": "eb2e454246537fe09c56502b2708db8968c5b601"
   },
   "outputs": [],
   "source": [
    "df_balanced.shape"
   ]
  },
  {
   "cell_type": "code",
   "execution_count": null,
   "metadata": {
    "_cell_guid": "b35b6d7a-4ac7-4dd0-b3b8-5047629cf602",
    "_execution_state": "idle",
    "_uuid": "23fb9eee44b15eaff8d87fa01e546f6c84b19906"
   },
   "outputs": [],
   "source": [
    "df.head()"
   ]
  },
  {
   "cell_type": "code",
   "execution_count": null,
   "metadata": {
    "_cell_guid": "d4a48a1f-5ec0-47cb-a56b-bb01033cf79c",
    "_execution_state": "idle",
    "_uuid": "f722a3b7a8a2957450a8f4eb95ef91fd32f12eec"
   },
   "outputs": [],
   "source": [
    "type=df_balanced['Type'].groupby(df_balanced['Type']).count()\n",
    "type"
   ]
  },
  {
   "cell_type": "code",
   "execution_count": null,
   "metadata": {
    "_cell_guid": "a1218ea9-83bf-4c33-9915-2319a7364623",
    "_execution_state": "idle",
    "_uuid": "40a022983503f0430e5e15fe12b580baaf4d578f"
   },
   "outputs": [],
   "source": [
    "type.plot('bar')"
   ]
  },
  {
   "cell_type": "markdown",
   "metadata": {
    "_cell_guid": "e6f14897-8c42-4904-90f2-fe483e694757",
    "_execution_state": "idle",
    "_uuid": "0d9d0a8478622df6038ce1abae2a1463ccb1b23f"
   },
   "source": [
    "### Now we try to model again"
   ]
  },
  {
   "cell_type": "code",
   "execution_count": null,
   "metadata": {
    "_cell_guid": "54043aed-67c8-4ae7-9967-da36ca632370",
    "_execution_state": "idle",
    "_uuid": "8671b6069755913683607face6b23edc767865aa"
   },
   "outputs": [],
   "source": [
    "from sklearn.model_selection import train_test_split\n",
    "from sklearn.model_selection import cross_val_score\n",
    "from sklearn.neighbors import KNeighborsClassifier\n",
    "\n",
    "# df.columns is column labels property\n",
    "features=df_balanced.columns[:-1].tolist()\n",
    "X=df_balanced[features].values\n",
    "y=df_balanced['Type']\n",
    "\n",
    "X_train,X_test,y_train,y_test=train_test_split(X,y,test_size=0.2,random_state=1)\n",
    "score=[]\n",
    "for i in range(32):\n",
    "    knn=KNeighborsClassifier(k)\n",
    "    score_val=cross_val_score(knn,X_train,y_train,scoring='accuracy',cv=10)\n",
    "    score_mean=score_val.mean()\n",
    "    scores.append(score_mean)\n",
    "best_K=np.argmax(scores)+1\n",
    "print('best K is:',best_K)\n",
    "knn=KNeighborsClassifier(best_K)\n",
    "knn.fit(X_train,y_train)\n",
    "print(\"prediction precision rate:\",knn.score(X_test,y_test))\n"
   ]
  },
  {
   "cell_type": "markdown",
   "metadata": {
    "_cell_guid": "3a87001f-e784-4061-b73e-2e13ae8b4cdf",
    "_execution_state": "idle",
    "_uuid": "d1f76591d884bd67bcad7d148d4d0073f40ebd10"
   },
   "source": [
    "Now, you can see, no warning occurs, and precision rate grows to 90%"
   ]
  },
  {
   "cell_type": "markdown",
   "metadata": {
    "_cell_guid": "f26ce52d-ead4-46ab-a8e2-dcbb274f278e",
    "_execution_state": "idle",
    "_uuid": "6594c42f616a48596e26615851f803c57c5ed622"
   },
   "source": [
    "### Further data exploring\n",
    "Usually data mining is a constantly trying and improvement action, we may go back and forth between data exploring and modeling, so now we will try to exposure more details of this data set"
   ]
  },
  {
   "cell_type": "markdown",
   "metadata": {
    "_cell_guid": "58fae83f-905f-4fb6-b798-40d81aa66f78",
    "_execution_state": "idle",
    "_uuid": "465e2ba2014ca67590f3b8029d9af4715a413ab0"
   },
   "source": [
    "We use box plot to describe the value range of each features<br>\n",
    "we find a fact, Silicon oxides is main contents of glass, its wight percent is much higher than other contents.<br>\n",
    "for this kind of data, we usually normalize it to same scale for **possible** better model results<br>\n",
    "Note: it is possible, not absolute, to improve the classifier performance"
   ]
  },
  {
   "cell_type": "markdown",
   "metadata": {
    "_cell_guid": "cb490941-b003-4d48-afa9-b8b3685c2fac",
    "_execution_state": "idle",
    "_uuid": "928442a307836b677053d086389a99a6d9dbddf0"
   },
   "source": [
    "### Model again, but normalize feature values before train"
   ]
  },
  {
   "cell_type": "code",
   "execution_count": null,
   "metadata": {
    "_cell_guid": "a788e10d-b02d-4611-875b-2fba41fd9795",
    "_execution_state": "idle",
    "_uuid": "bc383c4c5efdf2446041c22562c2fe80478240ab"
   },
   "outputs": [],
   "source": [
    "df_balanced.iloc[:,:-1].boxplot()"
   ]
  },
  {
   "cell_type": "code",
   "execution_count": null,
   "metadata": {
    "_cell_guid": "05c28d6b-9c17-4ca8-85cb-5dce578a64a8",
    "_execution_state": "idle",
    "_uuid": "f2b8a92df097221e0b625c2edb846f4e3a765e5e"
   },
   "outputs": [],
   "source": [
    "from sklearn.model_selection import train_test_split\n",
    "from sklearn.model_selection import cross_val_score\n",
    "from sklearn.neighbors import KNeighborsClassifier\n",
    "from sklearn import preprocessing\n",
    "\n",
    "# df.columns is column labels property\n",
    "features=df_balanced.columns[:-1].tolist()\n",
    "X=df_balanced[features].values\n",
    "y=df_balanced['Type']\n",
    "\n",
    "# normalization\n",
    "min_max_scaler=preprocessing.MinMaxScaler()\n",
    "X_minmax=min_max_scaler.fit_transform(X)\n",
    "\n",
    "X_train,X_test,y_train,y_test=train_test_split(X_minmax,y,test_size=0.2,random_state=1)\n",
    "score=[]\n",
    "for i in range(32):\n",
    "    knn=KNeighborsClassifier(k)\n",
    "    score_val=cross_val_score(knn,X_train,y_train,scoring='accuracy',cv=10)\n",
    "    score_mean=score_val.mean()\n",
    "    scores.append(score_mean)\n",
    "best_K=np.argmax(scores)+1\n",
    "print('best K is:',best_K)\n",
    "knn=KNeighborsClassifier(best_K)\n",
    "knn.fit(X_train,y_train)\n",
    "print(\"prediction precision rate:\",knn.score(X_test,y_test))"
   ]
  },
  {
   "cell_type": "markdown",
   "metadata": {
    "_cell_guid": "804cad60-0564-4786-a48c-693e3a6c023a",
    "_execution_state": "idle",
    "_uuid": "6043ecc4c3d882f44224e7ac5751ed1972ecc5fc"
   },
   "source": [
    "We find normalization on this data set has no improvement on performance"
   ]
  },
  {
   "cell_type": "code",
   "execution_count": null,
   "metadata": {
    "_cell_guid": "5f4897a5-4c52-432a-be4c-14c36a0dd722",
    "_execution_state": "idle",
    "_uuid": "0d59ccde2eaf60e1d1e660fff6b80fe0ea3946a4"
   },
   "outputs": [],
   "source": [
    "X"
   ]
  },
  {
   "cell_type": "code",
   "execution_count": null,
   "metadata": {
    "_cell_guid": "16bf2934-fb58-44ab-b6d8-013c9d59d6bb",
    "_execution_state": "idle",
    "_uuid": "97e46b7c47415b36443dfc9d40b157d52bb85d20"
   },
   "outputs": [],
   "source": [
    "X_minmax"
   ]
  },
  {
   "cell_type": "markdown",
   "metadata": {
    "_cell_guid": "1af002ce-664e-424d-8589-6de41ac150dd",
    "_execution_state": "idle",
    "_uuid": "dbc9088cea8d4f7cb42c1fcf499c2140663414cc"
   },
   "source": [
    "### Dive into the data again--PCA-- Dimensionality Reduction\n",
    "The prerequisity of PCA is hihg correlation among features, so we need to get correlation matrix before trying PCA"
   ]
  },
  {
   "cell_type": "code",
   "execution_count": null,
   "metadata": {
    "_cell_guid": "3f84bddb-7de8-4f03-a500-33dee4338c0b",
    "_execution_state": "idle",
    "_uuid": "bc21228725a91d1199bd9246d9ca3a4f061bd330"
   },
   "outputs": [],
   "source": [
    "df_balanced.head()"
   ]
  },
  {
   "cell_type": "code",
   "execution_count": null,
   "metadata": {
    "_cell_guid": "4b05cab0-63bb-4d91-8b56-ba1e7c313e21",
    "_execution_state": "idle",
    "_uuid": "8a336d0c79843e605859da26015547be2c1b2b17"
   },
   "outputs": [],
   "source": [
    "corr=df_balanced.iloc[:,:-1].corr()\n",
    "corr"
   ]
  },
  {
   "cell_type": "markdown",
   "metadata": {
    "_cell_guid": "1cb74bed-44d5-47e9-9d94-d5cffc06b2f0",
    "_execution_state": "idle",
    "_uuid": "c7cd9898f1ddb61e7659be0b8eb714a47d366781"
   },
   "source": [
    "We can find correlation index is high, but not too much, only RI and Ca is 0.78.<br>\n",
    "We will apply PCA method for learningintention."
   ]
  },
  {
   "cell_type": "code",
   "execution_count": null,
   "metadata": {
    "_cell_guid": "4c728e01-dac8-4472-9a7c-7c7071ffe6ba",
    "_execution_state": "idle",
    "_uuid": "2be47b4204bd32eed8e37a7398b14ef8d3224417"
   },
   "outputs": [],
   "source": [
    "from pandas.plotting import scatter_matrix\n",
    "sm=scatter_matrix(df_balanced.iloc[:,:-1], alpha=1, figsize=(10, 10), diagonal='kde')\n",
    "\n"
   ]
  },
  {
   "cell_type": "markdown",
   "metadata": {
    "_cell_guid": "f456783c-f619-4b88-8b5b-9de63315809f",
    "_execution_state": "idle",
    "_uuid": "f3576e5ff5722735d083ef40fbd7f26d5c9c5c78"
   },
   "source": [
    "After testing, PCA action not always improve the accuracy of model.Here, I just precision rate=93.75%, but, please note, it is not a stable performance, if you change \"test_size\" or \"random_state\" values, performance will drop.\n",
    "So this model has some risk of overfitting.\n",
    "And, please be advised: the purpose of PCA or other dimensionality reduction action is not to improve performace, it is to reduce calculation volume, it is to extract essential components of sample, it may or may not improve performance."
   ]
  },
  {
   "cell_type": "code",
   "execution_count": null,
   "metadata": {
    "_cell_guid": "9bc13bb9-14bd-4ca3-b652-7ef5662c5d72",
    "_execution_state": "idle",
    "_uuid": "88b88eb7e9ed284c5c57bc9018302938541f7015"
   },
   "outputs": [],
   "source": [
    "from sklearn.model_selection import train_test_split\n",
    "from sklearn.model_selection import cross_val_score\n",
    "from sklearn.neighbors import KNeighborsClassifier\n",
    "from sklearn import preprocessing\n",
    "from sklearn import decomposition\n",
    "\n",
    "# df.columns is column labels property\n",
    "features=df_balanced.columns[:-1].tolist()\n",
    "X=df_balanced[features].values\n",
    "y=df_balanced['Type']\n",
    "\n",
    "# PCA\n",
    "pca=decomposition.PCA(n_components=7)\n",
    "pca.fit(X)\n",
    "X=pca.transform(X)\n",
    "print(\"Primary Components:\",X)\n",
    "\n",
    "# normalization\n",
    "min_max_scaler=preprocessing.MinMaxScaler()\n",
    "X_minmax=min_max_scaler.fit_transform(X)\n",
    "\n",
    "X_train,X_test,y_train,y_test=train_test_split(X_minmax,y,test_size=0.2,random_state=1)\n",
    "score=[]\n",
    "for i in range(32):\n",
    "    knn=KNeighborsClassifier(k)\n",
    "    score_val=cross_val_score(knn,X_train,y_train,scoring='accuracy',cv=10)\n",
    "    score_mean=score_val.mean()\n",
    "    scores.append(score_mean)\n",
    "best_K=np.argmax(scores)+1\n",
    "print('best K is:',best_K)\n",
    "knn=KNeighborsClassifier(best_K)\n",
    "knn.fit(X_train,y_train)\n",
    "print(\"prediction precision rate:\",knn.score(X_test,y_test))\n",
    "result=knn.predict(X_test)\n",
    "print(result)\n",
    "myarray = np.asarray(y_test.tolist())\n",
    "print(myarray)"
   ]
  },
  {
   "cell_type": "markdown",
   "metadata": {
    "_cell_guid": "ca5daac6-02ae-4954-867d-c7ab344aba6c",
    "_execution_state": "idle",
    "_uuid": "a78dbc8f1c22c986f6d66e43b35bfc31ca569449"
   },
   "source": [
    "### what I am doing here?\n",
    "because we used oversampling method to get balanced data set, so the test set must contains duplicated samples, this will affect scores of model, so i just remove duplicated samples and get scores again."
   ]
  },
  {
   "cell_type": "code",
   "execution_count": null,
   "metadata": {
    "_cell_guid": "e4289c6d-0ec0-4541-b405-872339e7c34c",
    "_execution_state": "idle",
    "_uuid": "2342f2fbaeac5c41fbfd15886323124088a4826c"
   },
   "outputs": [],
   "source": [
    "s=pd.DataFrame(X_test)\n",
    "t=pd.DataFrame(y_test)\n",
    "s.head()"
   ]
  },
  {
   "cell_type": "code",
   "execution_count": null,
   "metadata": {
    "_cell_guid": "5c82fd0f-7f3d-45ed-bac7-5c31a172d457",
    "_execution_state": "idle",
    "_uuid": "786d8ca64c1fe6bfcae6c57ac86902f3cdf09817"
   },
   "outputs": [],
   "source": [
    "t=t.reset_index()"
   ]
  },
  {
   "cell_type": "code",
   "execution_count": null,
   "metadata": {
    "_cell_guid": "4136071c-a8bd-4018-9ef9-662ad7854498",
    "_execution_state": "idle",
    "_uuid": "a840a7f40e540d7aee67aeb70bb52991b08b98ea"
   },
   "outputs": [],
   "source": [
    "t.head()"
   ]
  },
  {
   "cell_type": "code",
   "execution_count": null,
   "metadata": {
    "_cell_guid": "2ebb6eb3-4f56-4a44-b534-f9454816e8b2",
    "_execution_state": "idle",
    "_uuid": "0a038f6e69846d412c04a8aedd4cc00c4039b3af"
   },
   "outputs": [],
   "source": [
    "del t['index']"
   ]
  },
  {
   "cell_type": "code",
   "execution_count": null,
   "metadata": {
    "_cell_guid": "04db7e95-5876-4797-a725-383896dcf59e",
    "_execution_state": "idle",
    "_uuid": "93dc2d420bd17db86a82ab772913d4e24357fbb1"
   },
   "outputs": [],
   "source": [
    "t.head()"
   ]
  },
  {
   "cell_type": "code",
   "execution_count": null,
   "metadata": {
    "_cell_guid": "1d7df0d1-8c10-4b1e-b36c-2f7b62d10c9e",
    "_execution_state": "idle",
    "_uuid": "3e45b7a08ca8c4b6d5205dffddcfb67b07b87895"
   },
   "outputs": [],
   "source": [
    "X_test_u=pd.concat([s,t],axis=1)\n",
    "X_test_u=X_test_u.drop_duplicates()\n",
    "X_test_u.shape"
   ]
  },
  {
   "cell_type": "code",
   "execution_count": null,
   "metadata": {
    "_cell_guid": "35700b87-37b2-4db6-b510-0ee440ba891a",
    "_execution_state": "idle",
    "_uuid": "4fbacccb490399ec4538dac82863f5675381dfb2"
   },
   "outputs": [],
   "source": [
    "X_test=X_test_u.iloc[:,:-1].values\n",
    "y_test=X_test_u['Type']"
   ]
  },
  {
   "cell_type": "code",
   "execution_count": null,
   "metadata": {
    "_cell_guid": "ce66a953-498a-40e9-8aad-bed46fd9f4cb",
    "_execution_state": "idle",
    "_uuid": "9a104dff4aee706f6070d5cad4a9e139310c19de"
   },
   "outputs": [],
   "source": [
    "print(\"prediction precision rate:\",knn.score(X_test,y_test))\n",
    "result=knn.predict(X_test)\n",
    "print(result)\n",
    "myarray = np.asarray(y_test.tolist())\n",
    "print(myarray)"
   ]
  }
 ],
 "metadata": {
  "_change_revision": 0,
  "_is_fork": false,
  "kernelspec": {
   "display_name": "Python 3",
   "language": "python",
   "name": "python3"
  },
  "language_info": {
   "codemirror_mode": {
    "name": "ipython",
    "version": 3
   },
   "file_extension": ".py",
   "mimetype": "text/x-python",
   "name": "python",
   "nbconvert_exporter": "python",
   "pygments_lexer": "ipython3",
   "version": "3.7.0"
  }
 },
 "nbformat": 4,
 "nbformat_minor": 1
}
